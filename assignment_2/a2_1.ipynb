{
 "cells": [
  {
   "cell_type": "code",
   "execution_count": 1,
   "metadata": {},
   "outputs": [
    {
     "name": "stderr",
     "output_type": "stream",
     "text": [
      "c:\\Users\\traip\\OneDrive\\Desktop\\CSEstuff\\CSE_158\\assignment_2\\.venv\\lib\\site-packages\\tqdm\\auto.py:22: TqdmWarning: IProgress not found. Please update jupyter and ipywidgets. See https://ipywidgets.readthedocs.io/en/stable/user_install.html\n",
      "  from .autonotebook import tqdm as notebook_tqdm\n"
     ]
    }
   ],
   "source": [
    "from sklearn import linear_model\n",
    "import sklearn\n",
    "import json\n",
    "from matplotlib import pyplot as plt\n",
    "from collections import defaultdict\n",
    "import numpy\n",
    "import random\n",
    "import gzip\n",
    "import math\n",
    "import string\n",
    "import scipy\n",
    "from scipy import sparse\n",
    "from implicit import bpr\n",
    "import tensorflow as tf\n",
    "from collections import defaultdict\n",
    "\n",
    "import gzip\n",
    "from collections import defaultdict\n",
    "import re\n",
    "import datetime\n",
    "\n",
    "from typing import List\n"
   ]
  },
  {
   "cell_type": "code",
   "execution_count": null,
   "metadata": {},
   "outputs": [],
   "source": [
    "def readGz(path):\n",
    "    for l in gzip.open(path, 'rt'):\n",
    "        yield eval(l)\n",
    "\n",
    "def readCSV(path):\n",
    "    f = gzip.open(path, 'rt')\n",
    "    f.readline()\n",
    "    for l in f:\n",
    "        u,b,r = l.strip().split(',')\n",
    "        r = int(r)\n",
    "        yield u,b,r"
   ]
  },
  {
   "cell_type": "code",
   "execution_count": null,
   "metadata": {},
   "outputs": [],
   "source": [
    "steam_reviews_data = []\n",
    "user_reviews_data = []\n",
    "user_libraries_data = []\n",
    "bundle_data = []\n",
    "games_data = []\n",
    "\n",
    "with gzip.open(\"steam_reviews.json.gz\") as file:\n",
    "    \"\"\"\n",
    "\n",
    "    Gives a list of user and all their reviews, within the review it shows how if the review was funny, the date, how helpful, the recommendation, and review \n",
    "    \"\"\"\n",
    "    for l in file:\n",
    "        d = eval(l)\n",
    "        steam_reviews_data.append(d)\n",
    "        if len(steam_reviews_data) >= 60000:\n",
    "            break\n",
    "\n",
    "with gzip.open(\"australian_user_reviews.json.gz\") as file:\n",
    "    \"\"\"\n",
    "    {user_id: int, user_url: str, reviews: list[{funny: bool, posted: str, last_edited: str, item_id: int, helpful: int, recommend: Bool, review: str}]}\n",
    "    \n",
    "    Gives a list of user and all their reviews, within the review it shows how if the review was funny, the date, how helpful, the recommendation, and review \n",
    "    \"\"\"\n",
    "    for l in file:\n",
    "        d = eval(l)\n",
    "        user_reviews_data.append(d)\n",
    "        if len(user_reviews_data) >= 60000:\n",
    "            break\n",
    "\n",
    "with gzip.open(\"australian_users_items.json.gz\") as file:\n",
    "    \"\"\"\n",
    "    {user_id: int, items_count: int, steam_id: int, user_url: str, items: list[{item_id: int, item_name: str, playtime_forever: int, playtime_2weeks: 0}]}\n",
    "    \n",
    "    Contains data of existing games user have in their library and their playtime\n",
    "    \n",
    "    \"\"\"\n",
    "    for l in file:\n",
    "        d = eval(l)\n",
    "        user_libraries_data.append(d)\n",
    "        if len(user_libraries_data) >= 60000:\n",
    "            break\n",
    "\n",
    "with gzip.open(\"bundle_data.json.gz\") as file:\n",
    "    for l in file:\n",
    "        d = eval(l)\n",
    "        bundle_data.append(d)\n",
    "        if len(bundle_data) >= 60000:\n",
    "            break\n",
    "\n",
    "with gzip.open(\"steam_games.json.gz\") as file:\n",
    "    \"\"\"\n",
    "    {'publisher': str, u'genres': list[str], u'app_name': str, u'title': str, u'url': str, u'release_date': str, u'tags': list[str], u'discount_price': float, u'reviews_url': str, u'specs': list[str], u'price': float, u'early_access': bool, u'id': str, u'developer': str\" }\n",
    "\n",
    "    Gives all information about the game suchas genre/tags, name, release-data, price/discount_price, review_url, early access\n",
    "    :ISSUE: Release date isn't always of format \"YYYY-mm-dd\"\n",
    "    \"\"\"\n",
    "    for l in file:\n",
    "        d = eval(l)\n",
    "        games_data.append(d)\n",
    "        if len(games_data) >= 60000:\n",
    "            break\n"
   ]
  },
  {
   "cell_type": "code",
   "execution_count": null,
   "metadata": {},
   "outputs": [],
   "source": [
    "# Print statements\n",
    "print(f\"steam reivew: {steam_reviews_data[0]} \\n\")\n",
    "print(f\"user reivew: {user_reviews_data[0]} \\n\")\n",
    "print(f\"user library: {user_libraries_data[12]} \\n\")\n",
    "print(f\"bundle data: {bundle_data[0]} \\n\")\n",
    "print(f\"game: {games_data[0]} \\n\")\n"
   ]
  },
  {
   "cell_type": "code",
   "execution_count": null,
   "metadata": {},
   "outputs": [],
   "source": [
    "print(f\"steam review len: {len(steam_reviews_data)} \\n\")\n",
    "print(f\"user review len: {len(user_reviews_data)} \\n\")\n",
    "print(f\"user library: {len(user_libraries_data)} \\n\")\n",
    "print(f\"bundle: {len(bundle_data)} \\n\")\n",
    "print(f\"game len: {len(games_data)} \\n\")\n"
   ]
  },
  {
   "cell_type": "code",
   "execution_count": null,
   "metadata": {},
   "outputs": [],
   "source": [
    "# get data structure\n",
    "\"List of genres\"\n",
    "genre_list = set()\n",
    "\"Set of users and their reviews\"\n",
    "user_to_reviews = defaultdict(list)\n",
    "for user in user_reviews_data:\n",
    "    user_to_reviews[user[\"user_id\"]] = (user['reviews'])\n",
    "\"List of user, and their amount of games in their library, and their number of recommended reviews\"\n",
    "user_rec_games = defaultdict(list)\n",
    "for game in games_data:\n",
    "    try:\n",
    "        for genre in game['genres']:\n",
    "            genre_list.add(genre)\n",
    "    except:\n",
    "        for genre in game['tags']:\n",
    "            genre_list.add(genre)\n",
    "    finally:\n",
    "        continue\n",
    "\n",
    "for user in user_libraries_data:\n",
    "    total_num = user['items_count']\n",
    "    u_id = user['user_id']\n",
    "    if u_id in user_rec_games:\n",
    "        continue\n",
    "    if u_id in user_to_reviews:\n",
    "        rec_count = 0\n",
    "        for rev in user_to_reviews[u_id]:\n",
    "            if rev['recommend']:\n",
    "                rec_count += 1\n",
    "        user_rec_games[u_id].append((total_num, rec_count))\n",
    "    else:\n",
    "        user_rec_games[u_id].append((total_num, 0))\n"
   ]
  },
  {
   "cell_type": "markdown",
   "metadata": {},
   "source": [
    "## Plot 1\n"
   ]
  },
  {
   "cell_type": "code",
   "execution_count": null,
   "metadata": {},
   "outputs": [],
   "source": [
    "# # recommendation vs # games user have\n",
    "x_num_games = []\n",
    "y_num_rec = []\n",
    "for l in user_rec_games.values():\n",
    "    x_num_games.append(l[0][0])\n",
    "    y_num_rec.append(l[0][1])\n",
    "\n",
    "plt.plot(y_num_rec, x_num_games, 'bo', label=\"# Games Owned vs # Rec.\",)\n",
    "plt.show()\n"
   ]
  },
  {
   "cell_type": "markdown",
   "metadata": {},
   "source": [
    "## Plot 2"
   ]
  },
  {
   "cell_type": "code",
   "execution_count": null,
   "metadata": {},
   "outputs": [],
   "source": []
  }
 ],
 "metadata": {
  "kernelspec": {
   "display_name": "Python 3.9.13 ('.venv': venv)",
   "language": "python",
   "name": "python3"
  },
  "language_info": {
   "codemirror_mode": {
    "name": "ipython",
    "version": 3
   },
   "file_extension": ".py",
   "mimetype": "text/x-python",
   "name": "python",
   "nbconvert_exporter": "python",
   "pygments_lexer": "ipython3",
   "version": "3.9.13"
  },
  "orig_nbformat": 4,
  "vscode": {
   "interpreter": {
    "hash": "9e934e8b553fb5598bc979e5aefbede9b58ab5134f11c5eb8033db5dae3e9da9"
   }
  }
 },
 "nbformat": 4,
 "nbformat_minor": 2
}
