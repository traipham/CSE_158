{
 "cells": [
  {
   "cell_type": "code",
   "execution_count": 1,
   "id": "4ea80453",
   "metadata": {},
   "outputs": [],
   "source": [
    "from sklearn import linear_model\n",
    "import sklearn \n",
    "import json\n",
    "from matplotlib import pyplot as plt\n",
    "from collections import defaultdict\n",
    "import numpy\n",
    "import random\n",
    "import gzip\n",
    "import math"
   ]
  },
  {
   "cell_type": "code",
   "execution_count": 2,
   "id": "e74ac91e",
   "metadata": {},
   "outputs": [],
   "source": [
    "def assertFloat(x): # Checks that an answer is a float\n",
    "    assert type(float(x)) == float\n",
    "\n",
    "def assertFloatList(items, N):\n",
    "    assert len(items) == N\n",
    "    assert [type(float(x)) for x in items] == [float]*N\n",
    "\n",
    "def solve_theta(x, y):\n",
    "    xT = numpy.transpose(x)\n",
    "    theta = numpy.matmul(numpy.matmul(numpy.linalg.inv(numpy.matmul(xT, x)), xT), y)\n",
    "    return theta"
   ]
  },
  {
   "cell_type": "code",
   "execution_count": 3,
   "id": "1a7911bf",
   "metadata": {},
   "outputs": [],
   "source": [
    "f = gzip.open(\"young_adult_10000.json.gz\")\n",
    "dataset = []\n",
    "for l in f:\n",
    "    dataset.append(json.loads(l))"
   ]
  },
  {
   "cell_type": "code",
   "execution_count": 4,
   "id": "85100ed3",
   "metadata": {},
   "outputs": [
    {
     "data": {
      "text/plain": [
       "10000"
      ]
     },
     "execution_count": 4,
     "metadata": {},
     "output_type": "execute_result"
    }
   ],
   "source": [
    "len(dataset)"
   ]
  },
  {
   "cell_type": "code",
   "execution_count": 5,
   "id": "e716aa89",
   "metadata": {},
   "outputs": [],
   "source": [
    "answers = {} # Put your answers to each question in this dictionary"
   ]
  },
  {
   "cell_type": "code",
   "execution_count": 6,
   "id": "cb2c286a",
   "metadata": {},
   "outputs": [
    {
     "data": {
      "text/plain": [
       "{'user_id': '8842281e1d1347389f2ab93d60773d4d',\n",
       " 'book_id': '2767052',\n",
       " 'review_id': '248c011811e945eca861b5c31a549291',\n",
       " 'rating': 5,\n",
       " 'review_text': \"I cracked and finally picked this up. Very enjoyable quick read - couldn't put it down - it was like crack. \\n I'm a bit bothered by the lack of backstory of how Panem and the Hunger Games come about. It is just kind of explained away in a few paragraphs and we are left to accept this very strange world where teenagers are pitted into an arena each year to kill each other? I was expecting it because I've seen Battle Royale, but I would have appreciated knowing more of the backstory of how the world could have come into such a odd state. \\n I suppose what makes a book like this interesting is thinking about the strategy of it all. The players are going to be statistically encouraged to band together because they will last longer that way, but by definition of course any partnership will be broken, and the drama of how that unfolds is always interesting and full of friendships broken and betrayal. Each character approached the game in their own way. Some banded together in larger coalitions, some were loners initially and banded together later. And some were just loners, like Foxface. A lot depended on your survival skill: could you find food and water on your own? Self-dependence is highly valued - and of course our hero was strong there. \\n All in all, a fun read, but I feel kind of dirty for having read it.\",\n",
       " 'date_added': 'Wed Jan 13 13:38:25 -0800 2010',\n",
       " 'date_updated': 'Wed Mar 22 11:46:36 -0700 2017',\n",
       " 'read_at': 'Sun Mar 25 00:00:00 -0700 2012',\n",
       " 'started_at': 'Fri Mar 23 00:00:00 -0700 2012',\n",
       " 'n_votes': 24,\n",
       " 'n_comments': 25}"
      ]
     },
     "execution_count": 6,
     "metadata": {},
     "output_type": "execute_result"
    }
   ],
   "source": [
    "dataset[0]"
   ]
  },
  {
   "cell_type": "code",
   "execution_count": 7,
   "id": "2a260695",
   "metadata": {},
   "outputs": [],
   "source": [
    "### Question 1"
   ]
  },
  {
   "cell_type": "code",
   "execution_count": 8,
   "id": "fea5f8f2",
   "metadata": {},
   "outputs": [],
   "source": [
    "def feature(datum):\n",
    "    # get number of \"!\" in review\n",
    "    feat = datum['review_text'].count(\"!\")\n",
    "    return [1] + [feat]\n"
   ]
  },
  {
   "cell_type": "code",
   "execution_count": 9,
   "id": "8f00dea9",
   "metadata": {},
   "outputs": [],
   "source": [
    "# get count of \"!\" for each review\n",
    "X = [feature(d) for d in dataset]\n",
    "# get rating for book\n",
    "Y = [d['rating'] for d in dataset]"
   ]
  },
  {
   "cell_type": "code",
   "execution_count": 10,
   "id": "a1580d38",
   "metadata": {},
   "outputs": [
    {
     "name": "stdout",
     "output_type": "stream",
     "text": [
      "[[1, 0], [1, 1], [1, 0], [1, 0], [1, 0]]\n",
      "[5, 5, 4, 2, 5]\n"
     ]
    }
   ],
   "source": [
    "print(X[:5])\n",
    "print(Y[:5])"
   ]
  },
  {
   "cell_type": "code",
   "execution_count": 11,
   "id": "0ab85dcc",
   "metadata": {},
   "outputs": [
    {
     "name": "stdout",
     "output_type": "stream",
     "text": [
      "[3.68853304 0.07109019]\n"
     ]
    },
    {
     "name": "stderr",
     "output_type": "stream",
     "text": [
      "C:\\Users\\traip\\AppData\\Local\\Temp\\ipykernel_21440\\3133213504.py:1: FutureWarning: `rcond` parameter will change to the default of machine precision times ``max(M, N)`` where M and N are the input matrix dimensions.\n",
      "To use the future default and silence this warning we advise to pass `rcond=None`, to keep using the old, explicitly pass `rcond=-1`.\n",
      "  theta, residuals, rank, s = numpy.linalg.lstsq(X, Y) # solve for theta using feature matrix and rating vector\n"
     ]
    }
   ],
   "source": [
    "theta, residuals, rank, s = numpy.linalg.lstsq(X, Y) # solve for theta using feature matrix and rating vector\n",
    "print(theta)\n",
    "\n",
    "theta0 = theta[0]\n",
    "theta1 = theta[1]"
   ]
  },
  {
   "cell_type": "code",
   "execution_count": 12,
   "id": "1be24fed",
   "metadata": {},
   "outputs": [
    {
     "name": "stdout",
     "output_type": "stream",
     "text": [
      "1.5231747404538243\n"
     ]
    }
   ],
   "source": [
    "model = linear_model.LinearRegression(fit_intercept=False)\n",
    "model.fit(X, Y)\n",
    "\n",
    "y_pred = model.predict(X)\n",
    "sse = sum([x**2 for x in (Y-y_pred)])\n",
    "\n",
    "mse = sse/len(Y)\n",
    "print(mse)"
   ]
  },
  {
   "cell_type": "code",
   "execution_count": 13,
   "id": "51581a4f",
   "metadata": {},
   "outputs": [],
   "source": [
    "answers['Q1'] = [theta0, theta1, mse]"
   ]
  },
  {
   "cell_type": "code",
   "execution_count": 14,
   "id": "525fd954",
   "metadata": {},
   "outputs": [],
   "source": [
    "assertFloatList(answers['Q1'], 3) # Check the format of your answer (three floats)"
   ]
  },
  {
   "cell_type": "code",
   "execution_count": 15,
   "id": "8b84731b",
   "metadata": {},
   "outputs": [],
   "source": [
    "### Question 2"
   ]
  },
  {
   "cell_type": "code",
   "execution_count": 16,
   "id": "48bc78e3",
   "metadata": {},
   "outputs": [],
   "source": [
    "def feature(datum):\n",
    "    ft_1 = datum[\"review_text\"].count(\"!\")\n",
    "    ft_2 = len(datum[\"review_text\"])\n",
    "    return [1] + [ft_2] + [ft_1]"
   ]
  },
  {
   "cell_type": "code",
   "execution_count": 17,
   "id": "cda70702",
   "metadata": {},
   "outputs": [
    {
     "name": "stdout",
     "output_type": "stream",
     "text": [
      "[[1, 1326, 0], [1, 224, 1], [1, 118, 0], [1, 1952, 0], [1, 554, 0]]\n",
      "[5, 5, 4, 2, 5]\n"
     ]
    }
   ],
   "source": [
    "X = [feature(d) for d in dataset]\n",
    "Y = [d[\"rating\"] for d in dataset]\n",
    "\n",
    "print(X[:5])\n",
    "print(Y[:5])"
   ]
  },
  {
   "cell_type": "code",
   "execution_count": 18,
   "id": "b344f573",
   "metadata": {},
   "outputs": [
    {
     "name": "stdout",
     "output_type": "stream",
     "text": [
      "[ 3.71751281e+00 -4.12150653e-05  7.52759173e-02]\n",
      "3.7175128077971804\n",
      "-4.121506529488e-05\n",
      "0.07527591733232629\n"
     ]
    },
    {
     "name": "stderr",
     "output_type": "stream",
     "text": [
      "C:\\Users\\traip\\AppData\\Local\\Temp\\ipykernel_21440\\535335595.py:1: FutureWarning: `rcond` parameter will change to the default of machine precision times ``max(M, N)`` where M and N are the input matrix dimensions.\n",
      "To use the future default and silence this warning we advise to pass `rcond=None`, to keep using the old, explicitly pass `rcond=-1`.\n",
      "  theta, residuals, rank, s = numpy.linalg.lstsq(X, Y)\n"
     ]
    }
   ],
   "source": [
    "theta, residuals, rank, s = numpy.linalg.lstsq(X, Y)\n",
    "print(theta)\n",
    "\n",
    "theta0, theta1, theta2 = theta[:3]\n",
    "print(theta0)\n",
    "print(theta1)\n",
    "print(theta2)"
   ]
  },
  {
   "cell_type": "code",
   "execution_count": 19,
   "id": "b5eafcae",
   "metadata": {},
   "outputs": [
    {
     "name": "stdout",
     "output_type": "stream",
     "text": [
      "1.521402924616585\n"
     ]
    }
   ],
   "source": [
    "\n",
    "model = linear_model.LinearRegression(fit_intercept=False)\n",
    "model.fit(X, Y)\n",
    "\n",
    "y_pred = model.predict(X)\n",
    "sse = sum([x**2 for x in (Y-y_pred)])\n",
    "\n",
    "mse = sse/len(Y)\n",
    "print(mse)"
   ]
  },
  {
   "cell_type": "code",
   "execution_count": 20,
   "id": "f099afd8",
   "metadata": {},
   "outputs": [],
   "source": [
    "answers['Q2'] = [theta0, theta1, theta2, mse]"
   ]
  },
  {
   "cell_type": "code",
   "execution_count": 21,
   "id": "31e2f9e8",
   "metadata": {},
   "outputs": [],
   "source": [
    "assertFloatList(answers['Q2'], 4)"
   ]
  },
  {
   "cell_type": "code",
   "execution_count": 22,
   "id": "1147c4f6",
   "metadata": {},
   "outputs": [],
   "source": [
    "### Question 3"
   ]
  },
  {
   "cell_type": "code",
   "execution_count": 23,
   "id": "78ef0f1e",
   "metadata": {},
   "outputs": [],
   "source": [
    "def feature(datum, deg: int = 5):\n",
    "    # feature for a specific polynomial degree\n",
    "    all_feat = [1]\n",
    "    for exp in range(1,deg+1):\n",
    "        ft = float((datum[\"review_text\"].count(\"!\"))**exp)\n",
    "        all_feat += [ft]\n",
    "    return all_feat\n",
    "\n",
    "\n",
    "\n",
    "def standarized_w_max_col(ft_list):\n",
    "    max_vals = []\n",
    "\n",
    "    tp_ft_list = numpy.transpose(ft_list)\n",
    "    for ind in range(len(tp_ft_list)):\n",
    "        max_val = max(tp_ft_list[ind])\n",
    "        tp_ft_list[ind] = tp_ft_list[ind]/max_val\n",
    "\n",
    "    return numpy.transpose(tp_ft_list)\n"
   ]
  },
  {
   "cell_type": "code",
   "execution_count": 24,
   "id": "883dcbe2",
   "metadata": {},
   "outputs": [
    {
     "name": "stdout",
     "output_type": "stream",
     "text": [
      "[[1, 0.0], [1, 1.0], [1, 0.0], [1, 0.0], [1, 0.0], [1, 0.0], [1, 4.0], [1, 2.0], [1, 1.0], [1, 0.0]]\n",
      "[[1, 0.0, 0.0], [1, 1.0, 1.0], [1, 0.0, 0.0], [1, 0.0, 0.0], [1, 0.0, 0.0]]\n",
      "[[1, 0.0, 0.0, 0.0, 0.0, 0.0], [1, 1.0, 1.0, 1.0, 1.0, 1.0], [1, 0.0, 0.0, 0.0, 0.0, 0.0], [1, 0.0, 0.0, 0.0, 0.0, 0.0], [1, 0.0, 0.0, 0.0, 0.0, 0.0]]\n",
      "[5, 5, 4, 2, 5]\n"
     ]
    }
   ],
   "source": [
    "X_1 = [feature(d, 1) for d in dataset]\n",
    "\n",
    "X_2 = [feature(d, 2) for d in dataset]\n",
    "\n",
    "X_3 = [feature(d, 3) for d in dataset]\n",
    "\n",
    "X_4 = [feature(d, 4) for d in dataset]\n",
    "\n",
    "X_5 = [feature(d) for d in dataset]\n",
    "\n",
    "Y = [d[\"rating\"] for d in dataset]\n",
    "\n",
    "print(X_1[:10])\n",
    "print(X_2[:5])\n",
    "print(X_5[:5])\n",
    "# print(numpy.transpose(X_5)[2][:5])\n",
    "print(Y[:5])"
   ]
  },
  {
   "cell_type": "code",
   "execution_count": 25,
   "id": "0eb4e502",
   "metadata": {},
   "outputs": [
    {
     "name": "stdout",
     "output_type": "stream",
     "text": [
      "[ 3.60026772e+00  3.21702721e-01 -4.17739020e-02  2.02489606e-03\n",
      " -3.93946094e-05  2.59479662e-07]\n"
     ]
    },
    {
     "name": "stderr",
     "output_type": "stream",
     "text": [
      "C:\\Users\\traip\\AppData\\Local\\Temp\\ipykernel_21440\\536378911.py:1: FutureWarning: `rcond` parameter will change to the default of machine precision times ``max(M, N)`` where M and N are the input matrix dimensions.\n",
      "To use the future default and silence this warning we advise to pass `rcond=None`, to keep using the old, explicitly pass `rcond=-1`.\n",
      "  theta_5, residuals, rank, s = numpy.linalg.lstsq(X_5, Y)\n"
     ]
    }
   ],
   "source": [
    "theta_5, residuals, rank, s = numpy.linalg.lstsq(X_5, Y)\n",
    "print(theta_5)\n"
   ]
  },
  {
   "cell_type": "code",
   "execution_count": 26,
   "id": "b2896440",
   "metadata": {},
   "outputs": [
    {
     "name": "stdout",
     "output_type": "stream",
     "text": [
      "[1.5231747404538243, 1.504668610625097, 1.4966845515179565, 1.4904477302230832, 1.4896106953960724]\n"
     ]
    }
   ],
   "source": [
    "model_1 = linear_model.LinearRegression(fit_intercept=False)\n",
    "model_2 = linear_model.LinearRegression(fit_intercept=False)\n",
    "model_3 = linear_model.LinearRegression(fit_intercept=False)\n",
    "model_4 = linear_model.LinearRegression(fit_intercept=False)\n",
    "model_5 = linear_model.LinearRegression(fit_intercept=False)\n",
    "\n",
    "model_1.fit(X_1, Y)\n",
    "model_2.fit(X_2, Y)\n",
    "model_3.fit(X_3, Y)\n",
    "model_4.fit(X_4, Y)\n",
    "model_5.fit(X_5, Y)\n",
    "\n",
    "y_pred_1 = model_1.predict(X_1)\n",
    "y_pred_2 = model_2.predict(X_2)\n",
    "y_pred_3 = model_3.predict(X_3)\n",
    "y_pred_4 = model_4.predict(X_4)\n",
    "y_pred_5 = model_5.predict(X_5)\n",
    "\n",
    "sse_1 = sum([x**2 for x in (Y-y_pred_1)])\n",
    "sse_2 = sum([x**2 for x in (Y-y_pred_2)])\n",
    "sse_3 = sum([x**2 for x in (Y-y_pred_3)])\n",
    "sse_4 = sum([x**2 for x in (Y-y_pred_4)])\n",
    "sse_5 = sum([x**2 for x in (Y-y_pred_5)])\n",
    "\n",
    "mse_1 = sse_1/len(Y)\n",
    "mse_2 = sse_2/len(Y)\n",
    "mse_3 = sse_3/len(Y)\n",
    "mse_4 = sse_4/len(Y)\n",
    "mse_5 = sse_5/len(Y)\n",
    "\n",
    "mses = [mse_1] + [mse_2] + [mse_3] + [mse_4] + [mse_5]\n",
    "print(mses)\n"
   ]
  },
  {
   "cell_type": "code",
   "execution_count": 27,
   "id": "559faac4",
   "metadata": {},
   "outputs": [],
   "source": [
    "answers['Q3'] = mses"
   ]
  },
  {
   "cell_type": "code",
   "execution_count": 28,
   "id": "bbb5da71",
   "metadata": {},
   "outputs": [],
   "source": [
    "assertFloatList(answers['Q3'], 5)# List of length 5"
   ]
  },
  {
   "cell_type": "code",
   "execution_count": 29,
   "id": "dcbb8263",
   "metadata": {},
   "outputs": [],
   "source": [
    "### Question 4"
   ]
  },
  {
   "cell_type": "code",
   "execution_count": 30,
   "id": "e91bc048",
   "metadata": {},
   "outputs": [],
   "source": [
    "train_set_1 = X_1[:len(X_1)//2]\n",
    "train_set_2 = X_2[:len(X_2)//2]\n",
    "train_set_3 = X_3[:len(X_3)//2]\n",
    "train_set_4 = X_4[:len(X_4)//2]\n",
    "train_set_5 = X_5[:len(X_5)//2]\n",
    "y_train = Y[:len(Y)//2]\n",
    "\n",
    "test_set_1 = X_1[len(X_1)//2:]\n",
    "test_set_2 = X_2[len(X_2)//2:]\n",
    "test_set_3 = X_3[len(X_3)//2:]\n",
    "test_set_4 = X_4[len(X_4)//2:]\n",
    "test_set_5 = X_5[len(X_5)//2:]\n",
    "y_test = Y[len(Y)//2:]"
   ]
  },
  {
   "cell_type": "code",
   "execution_count": 31,
   "id": "3cb5221a",
   "metadata": {},
   "outputs": [],
   "source": [
    "def create_model(x, y):\n",
    "    model = linear_model.LinearRegression(fit_intercept=False)\n",
    "    model.fit(x,y)\n",
    "    return model\n",
    "\n",
    "def calculate_mse(model, set, y):\n",
    "    y_pred = model.predict(set)\n",
    "    sse = sum([x**2 for x in (y-y_pred)])\n",
    "\n",
    "    mse = sse/len(y)\n",
    "    return mse"
   ]
  },
  {
   "cell_type": "code",
   "execution_count": 32,
   "id": "c152e43f",
   "metadata": {},
   "outputs": [
    {
     "name": "stdout",
     "output_type": "stream",
     "text": [
      "[1.5248743859867093, 1.4977199259322214, 1.485663219031122, 1.4767337440078994, 1.4809577273470618]\n"
     ]
    }
   ],
   "source": [
    "# trained model\n",
    "q4_model_1 = create_model(train_set_1, y_train)\n",
    "q4_model_2 = create_model(train_set_2, y_train)\n",
    "q4_model_3 = create_model(train_set_3, y_train)\n",
    "q4_model_4 = create_model(train_set_4, y_train)\n",
    "q4_model_5 = create_model(train_set_5, y_train)\n",
    "# mse of test set\n",
    "q4_mse_1_tst = calculate_mse(q4_model_1, test_set_1, y_test)\n",
    "q4_mse_2_tst = calculate_mse(q4_model_2, test_set_2, y_test)\n",
    "q4_mse_3_tst = calculate_mse(q4_model_3, test_set_3, y_test)\n",
    "q4_mse_4_tst = calculate_mse(q4_model_4, test_set_4, y_test)\n",
    "q4_mse_5_tst = calculate_mse(q4_model_5, test_set_5, y_test)\n",
    "\n",
    "mses = [q4_mse_1_tst] + [q4_mse_2_tst] + [q4_mse_3_tst] + [q4_mse_4_tst] + [q4_mse_5_tst]\n",
    "print(mses)\n"
   ]
  },
  {
   "cell_type": "code",
   "execution_count": 33,
   "id": "fdd505ff",
   "metadata": {},
   "outputs": [],
   "source": [
    "answers['Q4'] = mses"
   ]
  },
  {
   "cell_type": "code",
   "execution_count": 34,
   "id": "d2954061",
   "metadata": {},
   "outputs": [],
   "source": [
    "assertFloatList(answers['Q4'], 5)"
   ]
  },
  {
   "cell_type": "code",
   "execution_count": 35,
   "id": "2fa286a5",
   "metadata": {},
   "outputs": [],
   "source": [
    "### Question 5"
   ]
  },
  {
   "cell_type": "code",
   "execution_count": 36,
   "id": "81dcc36d",
   "metadata": {},
   "outputs": [
    {
     "name": "stdout",
     "output_type": "stream",
     "text": [
      "mean=3.7555\n",
      "0.9802522000000001\n"
     ]
    }
   ],
   "source": [
    "Y = [d[\"rating\"] for d in dataset]\n",
    "mean =  sum(Y)/len(Y) # for trivial prediction, the mean of result/output data is the best predictor (prediction set)\n",
    "print(f\"mean={mean}\")\n",
    "\n",
    "\n",
    "mae = sklearn.metrics.mean_absolute_error(\n",
    "    y_true=y_test, y_pred=[mean for i in range(len(y_test))])\n",
    "print(mae)"
   ]
  },
  {
   "cell_type": "code",
   "execution_count": 37,
   "id": "b3a2e9b9",
   "metadata": {},
   "outputs": [],
   "source": [
    "answers['Q5'] = mae"
   ]
  },
  {
   "cell_type": "code",
   "execution_count": 38,
   "id": "d71a47ed",
   "metadata": {},
   "outputs": [],
   "source": [
    "assertFloat(answers['Q5'])"
   ]
  },
  {
   "cell_type": "code",
   "execution_count": 39,
   "id": "cf84f30c",
   "metadata": {},
   "outputs": [],
   "source": [
    "### Question 6"
   ]
  },
  {
   "cell_type": "code",
   "execution_count": 40,
   "id": "19b5b795",
   "metadata": {},
   "outputs": [],
   "source": [
    "f = open(\"beer_50000.json\")\n",
    "dataset = []\n",
    "for l in f:\n",
    "    if 'user/gender' in l:\n",
    "        dataset.append(eval(l))"
   ]
  },
  {
   "cell_type": "code",
   "execution_count": 41,
   "id": "299d4fee",
   "metadata": {},
   "outputs": [
    {
     "data": {
      "text/plain": [
       "20403"
      ]
     },
     "execution_count": 41,
     "metadata": {},
     "output_type": "execute_result"
    }
   ],
   "source": [
    "len(dataset)"
   ]
  },
  {
   "cell_type": "code",
   "execution_count": 42,
   "id": "3fc39db9",
   "metadata": {},
   "outputs": [
    {
     "data": {
      "text/plain": [
       "{'review/appearance': 4.0,\n",
       " 'beer/style': 'American Double / Imperial IPA',\n",
       " 'review/palate': 4.0,\n",
       " 'review/taste': 4.5,\n",
       " 'beer/name': 'Cauldron DIPA',\n",
       " 'review/timeUnix': 1293735206,\n",
       " 'user/gender': 'Male',\n",
       " 'user/birthdayRaw': 'Jun 16, 1901',\n",
       " 'beer/ABV': 7.7,\n",
       " 'beer/beerId': '64883',\n",
       " 'user/birthdayUnix': -2163081600,\n",
       " 'beer/brewerId': '1075',\n",
       " 'review/timeStruct': {'isdst': 0,\n",
       "  'mday': 30,\n",
       "  'hour': 18,\n",
       "  'min': 53,\n",
       "  'sec': 26,\n",
       "  'mon': 12,\n",
       "  'year': 2010,\n",
       "  'yday': 364,\n",
       "  'wday': 3},\n",
       " 'user/ageInSeconds': 3581417047,\n",
       " 'review/overall': 4.0,\n",
       " 'review/text': \"According to the website, the style for the Caldera Cauldron changes every year. The current release is a DIPA, which frankly is the only cauldron I'm familiar with (it was an IPA/DIPA the last time I ordered a cauldron at the horsebrass several years back). In any event... at the Horse Brass yesterday.\\t\\tThe beer pours an orange copper color with good head retention and lacing. The nose is all hoppy IPA goodness, showcasing a huge aroma of dry citrus, pine and sandlewood. The flavor profile replicates the nose pretty closely in this West Coast all the way DIPA. This DIPA is not for the faint of heart and is a bit much even for a hophead like myslf. The finish is quite dry and hoppy, and there's barely enough sweet malt to balance and hold up the avalanche of hoppy bitterness in this beer. Mouthfeel is actually fairly light, with a long, persistentely bitter finish. Drinkability is good, with the alcohol barely noticeable in this well crafted beer. Still, this beer is so hugely hoppy/bitter, it's really hard for me to imagine ordering more than a single glass. Regardless, this is a very impressive beer from the folks at Caldera.\",\n",
       " 'user/profileName': 'johnmichaelsen',\n",
       " 'review/aroma': 4.5}"
      ]
     },
     "execution_count": 42,
     "metadata": {},
     "output_type": "execute_result"
    }
   ],
   "source": [
    "dataset[0]"
   ]
  },
  {
   "cell_type": "code",
   "execution_count": 43,
   "id": "cf95bec0",
   "metadata": {},
   "outputs": [],
   "source": [
    "X = [[1] + [d[\"review/text\"].count(\"!\")] for d in dataset]\n",
    "# X_train = X[:len(X)//2]\n",
    "# X_test = X[len(X)//2:]\n",
    "\n",
    "y_f = ['Female' in d['user/gender'] for d in dataset]\n",
    "# y_f_train = y_f[:len(y_f)//2]\n",
    "# y_f_test = y_f[len(y_f)//2:]"
   ]
  },
  {
   "cell_type": "code",
   "execution_count": 44,
   "id": "e0ce9c0b",
   "metadata": {},
   "outputs": [
    {
     "name": "stdout",
     "output_type": "stream",
     "text": [
      "[False False False ... False False False]\n"
     ]
    }
   ],
   "source": [
    "model = linear_model.LogisticRegression(C=1.0)\n",
    "model.fit(X, y_f)\n",
    "\n",
    "pred = model.predict(X)\n",
    "print(pred)"
   ]
  },
  {
   "cell_type": "code",
   "execution_count": 45,
   "id": "f0674822",
   "metadata": {},
   "outputs": [],
   "source": [
    "TP_ = numpy.logical_and(pred, y_f)\n",
    "FP_ = numpy.logical_and(pred, numpy.logical_not(y_f))\n",
    "TN_ = numpy.logical_and(numpy.logical_not(pred), numpy.logical_not(y_f))\n",
    "FN_ = numpy.logical_and(numpy.logical_not(pred), y_f)\n",
    "\n",
    "TP = sum(TP_)\n",
    "FP = sum(FP_)\n",
    "TN = sum(TN_)\n",
    "FN = sum(FN_)\n",
    "\n",
    "TPR = TP / (TP + FN)\n",
    "TNR = TN / (TN + FP)\n",
    "\n",
    "BER = 1 - 0.5*(TPR + TNR)\n"
   ]
  },
  {
   "cell_type": "code",
   "execution_count": 46,
   "id": "0c35d20a",
   "metadata": {},
   "outputs": [],
   "source": [
    "answers['Q6'] = [TP, TN, FP, FN, BER]"
   ]
  },
  {
   "cell_type": "code",
   "execution_count": 47,
   "id": "9b18991a",
   "metadata": {},
   "outputs": [],
   "source": [
    "assertFloatList(answers['Q6'], 5)"
   ]
  },
  {
   "cell_type": "code",
   "execution_count": 48,
   "id": "f066f3d5",
   "metadata": {},
   "outputs": [],
   "source": [
    "### Question 7"
   ]
  },
  {
   "cell_type": "code",
   "execution_count": 49,
   "id": "d24c241f",
   "metadata": {},
   "outputs": [
    {
     "name": "stdout",
     "output_type": "stream",
     "text": [
      "88\n",
      "3763\n",
      "16332\n",
      "220\n",
      "0.4507731134255145\n"
     ]
    }
   ],
   "source": [
    "model = linear_model.LogisticRegression(C=1.0, class_weight='balanced')\n",
    "model.fit(X, y_f)\n",
    "pred = model.predict(X)\n",
    "\n",
    "TP_ = numpy.logical_and(pred, y_f)\n",
    "FP_ = numpy.logical_and(pred, numpy.logical_not(y_f))\n",
    "TN_ = numpy.logical_and(numpy.logical_not(pred), numpy.logical_not(y_f))\n",
    "FN_ = numpy.logical_and(numpy.logical_not(pred), y_f)\n",
    "\n",
    "TP = sum(TP_)\n",
    "FP = sum(FP_)\n",
    "TN = sum(TN_)\n",
    "FN = sum(FN_)\n",
    "\n",
    "TPR = TP / (TP + FN)\n",
    "TNR = TN / (TN + FP)\n",
    "\n",
    "BER = 1 - 0.5*(TPR + TNR)\n",
    "\n",
    "print(TP)\n",
    "print(FP)\n",
    "print(TN)\n",
    "print(FN)\n",
    "print(BER)\n"
   ]
  },
  {
   "cell_type": "code",
   "execution_count": 50,
   "id": "0622704c",
   "metadata": {},
   "outputs": [],
   "source": [
    "answers[\"Q7\"] = [TP, TN, FP, FN, BER]"
   ]
  },
  {
   "cell_type": "code",
   "execution_count": 51,
   "id": "efb03c92",
   "metadata": {},
   "outputs": [],
   "source": [
    "assertFloatList(answers['Q7'], 5)"
   ]
  },
  {
   "cell_type": "code",
   "execution_count": 52,
   "id": "0e622c2b",
   "metadata": {},
   "outputs": [],
   "source": [
    "### Question 8"
   ]
  },
  {
   "cell_type": "code",
   "execution_count": 53,
   "id": "e3895848",
   "metadata": {},
   "outputs": [],
   "source": [
    "def sigmoid(x):\n",
    "    return 1.0 / (1.0 + math.exp(~x))\n"
   ]
  },
  {
   "cell_type": "code",
   "execution_count": 54,
   "id": "a321d847",
   "metadata": {},
   "outputs": [
    {
     "name": "stdout",
     "output_type": "stream",
     "text": [
      "[0.2689414213699951, 0.2689414213699951, 0.2689414213699951, 0.2689414213699951, 0.2689414213699951, 0.2689414213699951, 0.2689414213699951, 0.5, 0.5, 0.2689414213699951, 0.5, 0.2689414213699951, 0.2689414213699951, 0.2689414213699951, 0.2689414213699951, 0.2689414213699951, 0.2689414213699951, 0.2689414213699951, 0.2689414213699951, 0.2689414213699951, 0.2689414213699951, 0.5, 0.2689414213699951, 0.2689414213699951, 0.2689414213699951]\n"
     ]
    }
   ],
   "source": [
    "X = numpy.reshape([d[\"review/text\"].count(\"!\") for d in dataset], (-1,1))\n",
    "\n",
    "model = linear_model.LogisticRegression(C=1.0, class_weight='balanced')\n",
    "model.fit(X, y_f)\n",
    "\n",
    "pred = model.predict(X)\n",
    "curr = list(map(sigmoid, pred))\n",
    "print(curr[:25])\n",
    "# theta, residuals, rank, s = numpy.linalg.lstsq(X, y_f)\n",
    "# print(theta)\n",
    "# print(numpy.matmul(theta,X[23]))\n",
    "# print(pred[:25])"
   ]
  },
  {
   "cell_type": "code",
   "execution_count": 55,
   "id": "f233c953",
   "metadata": {},
   "outputs": [],
   "source": [
    "def sort_label(prev_v2, y_output):\n",
    "    conf_arr = numpy.ndarray.tolist(model.decision_function(prev_v2)) # confidence list\n",
    "    conf_w_y = [[y_output[i]] + [conf_arr[i]] for i in range(len(y_output))] # confidence with y_vector\n",
    "\n",
    "    sorted_conf_w_y = sorted(conf_w_y, key= lambda x: x[1], reverse=True)\n",
    "    res_list = [li[0] for li in sorted_conf_w_y]\n",
    "        \n",
    "    return res_list"
   ]
  },
  {
   "cell_type": "code",
   "execution_count": 56,
   "id": "9b6bcea5",
   "metadata": {},
   "outputs": [
    {
     "name": "stdout",
     "output_type": "stream",
     "text": [
      "[0.0, 0.1, 0.03, 0.03, 0.0164]\n"
     ]
    }
   ],
   "source": [
    "k = [1, 10, 100, 1000, 10000]\n",
    "sorted_label = sort_label(numpy.reshape(pred, (-1,1)), y_f) # get sorted labels\n",
    "\n",
    "num_rel_ret = [sum(sorted_label[:k_ind]) for k_ind in k]\n",
    "\n",
    "precisionList = [num_rel_ret[ind]/k[ind] for ind in range(len(k))]\n",
    "print(precisionList)"
   ]
  },
  {
   "cell_type": "code",
   "execution_count": 57,
   "id": "764513e1",
   "metadata": {},
   "outputs": [],
   "source": [
    "answers['Q8'] = precisionList"
   ]
  },
  {
   "cell_type": "code",
   "execution_count": 58,
   "id": "b0d7d87a",
   "metadata": {},
   "outputs": [],
   "source": [
    "assertFloatList(answers['Q8'], 5) #List of five floats"
   ]
  },
  {
   "cell_type": "code",
   "execution_count": 59,
   "id": "d557ab88",
   "metadata": {},
   "outputs": [],
   "source": [
    "f = open(\"answers_hw1.txt\", 'w') # Write your answers to a file\n",
    "f.write(str(answers) + '\\n')\n",
    "f.close()"
   ]
  },
  {
   "cell_type": "code",
   "execution_count": null,
   "id": "63b457fc",
   "metadata": {},
   "outputs": [],
   "source": []
  }
 ],
 "metadata": {
  "kernelspec": {
   "display_name": "Python 3.10.4 ('sklearn-venv': venv)",
   "language": "python",
   "name": "python3"
  },
  "language_info": {
   "codemirror_mode": {
    "name": "ipython",
    "version": 3
   },
   "file_extension": ".py",
   "mimetype": "text/x-python",
   "name": "python",
   "nbconvert_exporter": "python",
   "pygments_lexer": "ipython3",
   "version": "3.10.4"
  },
  "vscode": {
   "interpreter": {
    "hash": "556d5f120593fceae2a20482ceacf07895338fbb3358f01b7168bed6f88cc025"
   }
  }
 },
 "nbformat": 4,
 "nbformat_minor": 5
}
